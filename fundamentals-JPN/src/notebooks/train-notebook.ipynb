{
  "cells": [
    {
      "cell_type": "markdown",
      "metadata": {},
      "source": [
        "# Azure Machine Learning による機械学習プロセス - モデル学習編\n",
        "本ノートブックでは、オープンソースライブラリの LightGBM (Python API) を用いてモデル学習を行っていきます。各機械学習プロセスを Azure Machine Learning Studio and/or Azure Machine Learning Python SDK を用いて管理します。"
      ]
    },
    {
      "cell_type": "markdown",
      "metadata": {},
      "source": [
        "## アジェンダ\n",
        "### **A. 学習編 (本ノートブック)**\n",
        "- ワークスペース (Workspace) への接続\n",
        "- データセット (Datasets) の登録\n",
        "- 環境 (Environments) の登録\n",
        "- コンピューティングクラスター (Compute Clusters) の作成\n",
        "- モデル学習の実行と実験 (Run & Experiments)\n",
        "- モデル登録 (Models)\n",
        "\n",
        "### B. デプロイ編\n",
        "- 推論環境の作成 (Deployments)\n",
        "- エンドポイントの利用 (Endpoint)"
      ]
    },
    {
      "cell_type": "markdown",
      "metadata": {},
      "source": [
        "## 事前設定\n",
        "- 本ノートブックは Azure Machine Learning の Compute Instance を利用することを想定しています。\n",
        "- 開発環境は JupyterLab, VSCode, Integrated Notebook など Compute Instance で稼働するものであれば自由に選択いただけます。\n",
        "- カーネルは `python38-azureml (Python 3.8 AzureML)` を選択ください。"
      ]
    },
    {
      "cell_type": "markdown",
      "metadata": {},
      "source": [
        "<div class=\"alert alert-info\"><h5> 本ノートブックの進め方</h5><p>\n",
        "基本的には Azure Machine Learning Python SDK を用いて作業を進めてください。参考情報として Azure Machine Learning Studio での実行手順も記載しています。</p></div>"
      ]
    },
    {
      "cell_type": "markdown",
      "metadata": {},
      "source": [
        "<br>"
      ]
    },
    {
      "cell_type": "markdown",
      "metadata": {},
      "source": [
        "## ワークスペース (Workspace) への接続\n",
        "作業環境から Azure Machine Learning Workspace へ接続を行います。"
      ]
    },
    {
      "cell_type": "markdown",
      "metadata": {},
      "source": [
        "#### Python SDK での手順\n",
        "クライアント環境の Python 環境にインストールした Azure ML Python SDK を用いて Azure Machine Learning Workspace に接続します。"
      ]
    },
    {
      "cell_type": "code",
      "execution_count": null,
      "metadata": {
        "gather": {
          "logged": 1643071460338
        }
      },
      "outputs": [],
      "source": [
        "# Compute Instance を利用する場合\n",
        "from azureml.core import Workspace\n",
        "ws = Workspace.from_config()"
      ]
    },
    {
      "cell_type": "code",
      "execution_count": null,
      "metadata": {
        "gather": {
          "logged": 1643071460427
        }
      },
      "outputs": [],
      "source": [
        "# # その他の任意のクライアント環境を利用する場合\n",
        "# ws = Workspace.get(\n",
        "#     name='name',\n",
        "#     subscription_id='subscription_id',\n",
        "#     resource_group='resource_group',\n",
        "# )"
      ]
    },
    {
      "cell_type": "markdown",
      "metadata": {},
      "source": [
        "#### (参考) Azure Machine Learning Studio での手順\n",
        "[ml.azureml.com](ml.azurem.com) にアクセスします。Python SDK を中心に作業される場合にも Azure Machine Learning Studio を併用することが多いため、この画面は開いておきます。"
      ]
    },
    {
      "cell_type": "markdown",
      "metadata": {},
      "source": [
        "<img src=\"../docs/images/azureml-workspace.png\" width=500>\n"
      ]
    },
    {
      "cell_type": "markdown",
      "metadata": {},
      "source": [
        "<br>"
      ]
    },
    {
      "cell_type": "markdown",
      "metadata": {},
      "source": [
        "## データセット (Datasets) の登録\n",
        "Azure のストレージやデータベースに格納されているデータをデータセット (Datasets) として登録します。学習データになります。"
      ]
    },
    {
      "cell_type": "markdown",
      "metadata": {},
      "source": [
        "#### Python SDK での手順\n",
        "データソースへの接続情報を保持しているデータストア (Datastores) を利用して、CSV ファイルを Azure ストレージ (Azure ML のデフォルトストレージ) にアップロードします。その後、そのファイルをデータセット (Datasets) として登録します。"
      ]
    },
    {
      "cell_type": "code",
      "execution_count": null,
      "metadata": {
        "gather": {
          "logged": 1643071469733
        }
      },
      "outputs": [],
      "source": [
        "from azureml.core import Dataset\n",
        "\n",
        "# データストア (Datastore) へのアップロード\n",
        "datastore = ws.get_default_datastore()\n",
        "datastore.upload_files(files=['../data/Titanic.csv'],\n",
        "                 target_path='demo',\n",
        "                 overwrite=True)\n",
        "\n",
        "# データセット (Dataset) の登録\n",
        "datastore_paths = [(datastore, 'demo/Titanic.csv')]\n",
        "# 表形式を選択\n",
        "titanic_ds = Dataset.Tabular.from_delimited_files(path=datastore_paths)\n",
        "titanic_ds.register(ws, \"titanic\", create_new_version=True)"
      ]
    },
    {
      "cell_type": "markdown",
      "metadata": {},
      "source": [
        "Azure Machine Learning Studio にて正常に登録されていることを確認します。<br>\n",
        "<img src=\"../docs/images/azureml-dataset4.png\" width=900><br>\n",
        "\n"
      ]
    },
    {
      "cell_type": "markdown",
      "metadata": {},
      "source": [
        "#### (参考) Azure Machine Learning Studio での手順\n",
        "ブラウザを開いている作業端末に CSV (data フォルダの Titanic.csv) をダウンロードして、データセット (Dataset) として登録します。"
      ]
    },
    {
      "cell_type": "markdown",
      "metadata": {},
      "source": [
        "データセットの名称は `titanic` として、データセットの種類は _表形式_ とします。<br>\n",
        "<img src=\"../docs/images/azureml-dataset1.png\" width=500><br>\n",
        "data フォルダの Titanic.csv データをアップロードします。次にファイル形式、区切り記号などの情報に誤りがないことを確認して次に進みます。<br>\n",
        "<img src=\"../docs/images/azureml-dataset2.png\" width=500><br>\n",
        "スキーマの設定に誤りがないことを確認して次に進み、データセットの登録を完了します。<br>\n",
        "<img src=\"../docs/images/azureml-dataset3.png\" width=500><br>\n",
        "正常に登録されていることを確認します。<br>\n",
        "<img src=\"../docs/images/azureml-dataset4.png\" width=900><br>\n"
      ]
    },
    {
      "cell_type": "markdown",
      "metadata": {},
      "source": [
        "<br>"
      ]
    },
    {
      "cell_type": "markdown",
      "metadata": {},
      "source": [
        "## 環境 (Environment) の登録\n",
        "モデル学習や推論で利用する Python ライブラリとそのバージョンを環境 (Environment) として登録します。"
      ]
    },
    {
      "cell_type": "markdown",
      "metadata": {},
      "source": [
        "#### Python SDK での手順\n",
        "環境の名称は `lightgbm-python-env` とし、「Python 仮想環境」を選択し、Python ライブラリとそのバージョンが記載されている [environments/requirements.txt](environments/requirements.txt) のファイルを読み込み、環境を作成します。"
      ]
    },
    {
      "cell_type": "code",
      "execution_count": null,
      "metadata": {
        "gather": {
          "logged": 1643071470120
        }
      },
      "outputs": [],
      "source": [
        "from azureml.core import Environment\n",
        "environment_name = \"lightgbm-python-env\"\n",
        "file_path = \"../environments/requirements.txt\"\n",
        "env = Environment.from_pip_requirements(name = environment_name, file_path = file_path)\n",
        "env.register(ws)"
      ]
    },
    {
      "cell_type": "markdown",
      "metadata": {},
      "source": [
        "Azure Machine Learning Studio にて正常に登録されていることを確認します。<br>\n",
        "<img src=\"../docs/images/azureml-environment2.png\" width=500><br>"
      ]
    },
    {
      "cell_type": "markdown",
      "metadata": {},
      "source": [
        "#### (参考) Azure Machine Learning Studio での手順"
      ]
    },
    {
      "cell_type": "markdown",
      "metadata": {},
      "source": [
        "環境の名称は `lightgbm-python-env` とし、「Python 仮想環境」を選択し、Python ライブラリとそのバージョンが記載されている [environments/requirements.txt](environments/requirements.txt) の内容をコピー&ペーストします。<br>\n",
        "次へ進み、内容に誤りない確認をして環境を作成します。<br>\n",
        "<img src=\"../docs/images/azureml-environment1.png\" width=500><br>\n",
        "正常に環境が登録されていることを確認します。<br>\n",
        "<img src=\"../docs/images/azureml-environment2.png\" width=500><br>"
      ]
    },
    {
      "cell_type": "markdown",
      "metadata": {},
      "source": [
        "<br>"
      ]
    },
    {
      "cell_type": "markdown",
      "metadata": {},
      "source": [
        "## コンピューティングクラスター (Compute Clusters) の作成\n",
        "(バッチ的な) モデル学習に利用する計算クラスターであるコンピューティングクラスター (Compute Clusters) を作成します。"
      ]
    },
    {
      "cell_type": "markdown",
      "metadata": {},
      "source": [
        "#### Python SDK での手順\n",
        "名称は `cpu-clusters` とし、(例えば) Standard_F4s_v2 VM ファミリーを選択します。<br>\n",
        "最小ノード数は 0、最大ノード数は 4 などに設定し、コンピューティングクラスターを作成します。<br>"
      ]
    },
    {
      "cell_type": "code",
      "execution_count": null,
      "metadata": {
        "gather": {
          "logged": 1643071470267
        }
      },
      "outputs": [],
      "source": [
        "compute_name = \"cpu-clusters\""
      ]
    },
    {
      "cell_type": "markdown",
      "metadata": {},
      "source": [
        "(注意) この Compute Clusters は Azure Machine Learning Workspace で共有で利用されるものです。複人で作業をしている場合は、誰か一人が作成するだけで十分です。"
      ]
    },
    {
      "cell_type": "code",
      "execution_count": null,
      "metadata": {
        "gather": {
          "logged": 1643071481950
        }
      },
      "outputs": [],
      "source": [
        "from azureml.core.compute import ComputeTarget, AmlCompute\n",
        "\n",
        "#TODO: 仮想ネットワークの情報を記載\n",
        "# vnet_resourcegroup_name = \"\"\n",
        "# vnet_name = \"\"\n",
        "# subnet_name = \"default\"\n",
        "\n",
        "if compute_name not in ws.compute_targets: # compute_name の名前の Compute Cluster が無ければ...\n",
        "    compute_config = AmlCompute.provisioning_configuration(vm_size = \"Standard_F4S_V2\", \n",
        "                                                           max_nodes=4, \n",
        "                                                           idle_seconds_before_scaledown = 300,\n",
        "                                                           #vnet_resourcegroup_name=vnet_resourcegroup_name,\n",
        "                                                           #vnet_name=vnet_name,\n",
        "                                                           #subnet_name=subnet_name\n",
        "                                                           )\n",
        "\n",
        "    ct = ComputeTarget.create(ws, compute_name, compute_config)\n",
        "    ct.wait_for_completion(show_output=True)"
      ]
    },
    {
      "cell_type": "markdown",
      "metadata": {},
      "source": [
        "Azure Machine Learning Studio にて正常に登録されていることを確認します。<br>\n",
        "<img src=\"../docs/images/azureml-computeclusters4.png\" width=500><br>\n",
        "\n"
      ]
    },
    {
      "cell_type": "markdown",
      "metadata": {},
      "source": [
        "#### (参考) Azure Machine Learning Studio での手順"
      ]
    },
    {
      "cell_type": "markdown",
      "metadata": {},
      "source": [
        "「新規」からコンピューティングクラスターを作成していきます。<br>\n",
        "<img src=\"../docs/images/azureml-computeclusters1.png\" width=500><br>\n",
        "\n",
        "(例えば) Standard_F4s_v2 などの VM ファミリーを選択します。<br>\n",
        "<img src=\"../docs/images/azureml-computeclusters2.png\" width=500><br>\n",
        "\n",
        "名称は `cpu-clusters` とし、最小ノード数は 0、最大ノード数は 4 などに設定し、コンピューティングクラスターを作成します。<br>\n",
        "<img src=\"../docs/images/azureml-computeclusters3.png\" width=500><br>\n",
        "\n",
        "正常に作成されたことを確認します。<br>\n",
        "<img src=\"../docs/images/azureml-computeclusters4.png\" width=500><br>\n"
      ]
    },
    {
      "cell_type": "markdown",
      "metadata": {},
      "source": [
        "<br>"
      ]
    },
    {
      "cell_type": "markdown",
      "metadata": {},
      "source": [
        "## モデル学習の実行と実験 (Run & Experiments)\n",
        "モデル学習を実行します。それぞれの実行 (Run) は実験 (Experiments) に情報が集約されます。"
      ]
    },
    {
      "cell_type": "markdown",
      "metadata": {},
      "source": [
        "#### Python SDK での手順\n",
        "実験名を `lgb-train` とします。"
      ]
    },
    {
      "cell_type": "code",
      "execution_count": null,
      "metadata": {
        "gather": {
          "logged": 1643071482697
        }
      },
      "outputs": [],
      "source": [
        "from azureml.core import Experiment\n",
        "\n",
        "experiment_name = \"lgb-train\"\n",
        "experiment = Experiment(ws, experiment_name)"
      ]
    },
    {
      "cell_type": "markdown",
      "metadata": {},
      "source": [
        "ScriptRunConfig で実行の構成設定をします。\n",
        "- 参考ドキュメント : [トレーニングの実行を構成して送信する - スクリプト実行構成とは](https://docs.microsoft.com/ja-JP/azure/machine-learning/how-to-set-up-training-targets#whats-a-script-run-configuration)\n",
        "\n",
        "なお、学習コードは [src/train-lgb.py](src/train-lgb.py) から確認できます。学習データは Azure Machine Learning に登録されているものを呼びだしています。メトリックの記録は MLflow の Autolog 機能などを用いています。"
      ]
    },
    {
      "cell_type": "code",
      "execution_count": null,
      "metadata": {
        "gather": {
          "logged": 1643071482810
        }
      },
      "outputs": [],
      "source": [
        "from azureml.core import ScriptRunConfig\n",
        "\n",
        "script_dir = \"script\"\n",
        "script_name = \"train-lgb.py\"\n",
        "args = [\"--input-data\", titanic_ds.as_named_input('titanic')]\n",
        "\n",
        "src = ScriptRunConfig(\n",
        "    source_directory=script_dir,\n",
        "    script=script_name,\n",
        "    environment=env,\n",
        "    arguments=args,\n",
        "    compute_target=compute_name,\n",
        ")"
      ]
    },
    {
      "cell_type": "markdown",
      "metadata": {},
      "source": [
        "ジョブを実行します。"
      ]
    },
    {
      "cell_type": "code",
      "execution_count": null,
      "metadata": {
        "gather": {
          "logged": 1643071491447
        }
      },
      "outputs": [],
      "source": [
        "run = experiment.submit(src)\n",
        "run"
      ]
    },
    {
      "cell_type": "markdown",
      "metadata": {},
      "source": [
        "ジョブ実行が完了するまで待機します。"
      ]
    },
    {
      "cell_type": "code",
      "execution_count": null,
      "metadata": {
        "gather": {
          "logged": 1643072021849
        }
      },
      "outputs": [],
      "source": [
        "run.wait_for_completion(show_output=True)"
      ]
    },
    {
      "cell_type": "code",
      "execution_count": null,
      "metadata": {
        "gather": {
          "logged": 1643072022003
        }
      },
      "outputs": [],
      "source": [
        "# run.download_files(output_directory=experiment_name+\"_logging\")"
      ]
    },
    {
      "cell_type": "code",
      "execution_count": null,
      "metadata": {
        "gather": {
          "logged": 1643072022094
        }
      },
      "outputs": [],
      "source": [
        "run"
      ]
    },
    {
      "cell_type": "markdown",
      "metadata": {},
      "source": [
        "Azure Machine Learning Studio にて正常にジョブが実行されたことを確認します。<br>\n",
        "<img src=\"../docs/images/azureml-experiment1.png\" width=500><br>\n",
        "実行時間、メトリック、コードなどの情報が確認できます。<br>\n",
        "<img src=\"../docs/images/azureml-experiment2.png\" width=1500><br>\n"
      ]
    },
    {
      "cell_type": "markdown",
      "metadata": {},
      "source": [
        "#### (参考) Azure Machine Learning Studio での手順\n"
      ]
    },
    {
      "cell_type": "markdown",
      "metadata": {},
      "source": [
        "<div class=\"alert alert-info\"><h4> 注意 </h4><p>\n",
        "Azure Machine Learning から Job を実行する機能はプレビューです。<br>\n",
        "正式にサポートされていない (2022年1月時点) ことと、表形式のデータセット (Dataset) がまだサポートされていないので、ここでは割愛します。</p></div>"
      ]
    },
    {
      "cell_type": "markdown",
      "metadata": {},
      "source": [
        "<br>"
      ]
    },
    {
      "cell_type": "markdown",
      "metadata": {},
      "source": [
        "## モデル登録 (Model Registry)\n",
        "学習済みモデルファイルや関連ファイルを登録します。"
      ]
    },
    {
      "cell_type": "markdown",
      "metadata": {},
      "source": [
        "#### Python SDK での手順\n",
        "ジョブ実行の run オブジェクトを利用して、モデル登録をします。<br>\n",
        "※ Azure Machine Learning Studio 経由で実行する場合と違って、クライアント端末への学習済みモデルのダウンロードは不要です。"
      ]
    },
    {
      "cell_type": "code",
      "execution_count": null,
      "metadata": {
        "gather": {
          "logged": 1643072022726
        }
      },
      "outputs": [],
      "source": [
        "from azureml.core import Model\n",
        "\n",
        "model = run.register_model(\n",
        "    model_name=\"lgb-model\",\n",
        "    model_framework=\"LightGBM\",\n",
        "    model_framework_version=\"3.3.1\",\n",
        "    tags={'algorithm': 'lightGBM'}, \n",
        "    model_path = 'model')"
      ]
    },
    {
      "cell_type": "markdown",
      "metadata": {},
      "source": [
        "Azure Machine Learning Studio にて正常に登録されていることを確認します。<br>\n",
        "<img src=\"../docs/images/azureml-model2.png\" width=500><br>"
      ]
    },
    {
      "cell_type": "markdown",
      "metadata": {},
      "source": [
        "#### (参考) Azure Machine Learning Studio での手順\n",
        "ブラウザを開いている作業端末に学習済みモデルなどのファイルが含まれる _model_ フォルダをダウンロードしておきます。"
      ]
    },
    {
      "cell_type": "markdown",
      "metadata": {},
      "source": [
        "名称は `lgb-model` とします。利用してフレームワークである LightGBM やバージョンを記載します。また _model_ フォルダごとアップロードして、モデルとして登録します。<br>\n",
        "<img src=\"../docs/images/azureml-model1.png\" width=500><br>\n",
        "\n",
        "登録された内容を確認します。<br>\n",
        "<img src=\"../docs/images/azureml-model2.png\" width=500><br>\n"
      ]
    },
    {
      "cell_type": "markdown",
      "metadata": {},
      "source": []
    }
  ],
  "metadata": {
    "interpreter": {
      "hash": "31f2aee4e71d21fbe5cf8b01ff0e069b9275f58929596ceb00d14d90e3e16cd6"
    },
    "kernel_info": {
      "name": "python3"
    },
    "kernelspec": {
      "display_name": "Python 3",
      "language": "python",
      "name": "python3"
    },
    "language_info": {
      "codemirror_mode": {
        "name": "ipython",
        "version": 3
      },
      "file_extension": ".py",
      "mimetype": "text/x-python",
      "name": "python",
      "nbconvert_exporter": "python",
      "pygments_lexer": "ipython3",
      "version": "3.8.13"
    },
    "nteract": {
      "version": "nteract-front-end@1.0.0"
    },
    "orig_nbformat": 4
  },
  "nbformat": 4,
  "nbformat_minor": 2
}
