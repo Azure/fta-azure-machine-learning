{
  "cells": [
    {
      "cell_type": "markdown",
      "source": [
        "# Logging within AzureML"
      ],
      "metadata": {
        "nteract": {
          "transient": {
            "deleting": false
          }
        }
      }
    },
    {
      "cell_type": "markdown",
      "source": [
        "## Using the AzureML SDK log_* methods"
      ],
      "metadata": {
        "nteract": {
          "transient": {
            "deleting": false
          }
        }
      }
    },
    {
      "cell_type": "code",
      "source": [
        "from azureml.core import Workspace, Experiment\n",
        "\n",
        "ws = Workspace.from_config()\n",
        "exp = Experiment(workspace=ws, name=\"logging-experiment\")\n",
        "run = exp.start_logging()"
      ],
      "outputs": [],
      "execution_count": null,
      "metadata": {
        "gather": {
          "logged": 1631639417299
        }
      }
    },
    {
      "cell_type": "code",
      "source": [
        "print(run.get_details())\n",
        "print(run.get_portal_url())"
      ],
      "outputs": [],
      "execution_count": null,
      "metadata": {
        "jupyter": {
          "source_hidden": false,
          "outputs_hidden": false
        },
        "nteract": {
          "transient": {
            "deleting": false
          }
        },
        "gather": {
          "logged": 1631639486007
        }
      }
    },
    {
      "cell_type": "code",
      "source": [
        "run.log(\"nrmse\", 0.01)\n",
        "run.log(name=\"nrmse\", value=0.015)"
      ],
      "outputs": [],
      "execution_count": null,
      "metadata": {
        "jupyter": {
          "source_hidden": false,
          "outputs_hidden": false
        },
        "nteract": {
          "transient": {
            "deleting": false
          }
        },
        "gather": {
          "logged": 1631639558235
        }
      }
    },
    {
      "cell_type": "code",
      "source": [
        "run.log_list(\"accuracies\", [0.5, 0.57, 0.62])"
      ],
      "outputs": [],
      "execution_count": null,
      "metadata": {
        "jupyter": {
          "source_hidden": false,
          "outputs_hidden": false
        },
        "nteract": {
          "transient": {
            "deleting": false
          }
        },
        "gather": {
          "logged": 1631640318139
        }
      }
    },
    {
      "cell_type": "code",
      "source": [
        "run.log_table(\"table\", {\"x\": [1, 2], \"y\": [0.1, 0.2]})\n",
        "run.log_row(\"table\", x=3, y=0.3)"
      ],
      "outputs": [],
      "execution_count": null,
      "metadata": {
        "jupyter": {
          "source_hidden": false,
          "outputs_hidden": false
        },
        "nteract": {
          "transient": {
            "deleting": false
          }
        },
        "gather": {
          "logged": 1631640324005
        }
      }
    },
    {
      "cell_type": "code",
      "source": [
        "# Create child runs to isolate runs\n",
        "with run.child_run() as child_run:\n",
        "    child_run.log(\"child_metric\", 0.01)\n",
        "    child_run.parent.log(\"metric_from_child\", 0.02)\n",
        "    child_run.cancel()  # I would normally complete it as shown below"
      ],
      "outputs": [],
      "execution_count": null,
      "metadata": {
        "jupyter": {
          "source_hidden": false,
          "outputs_hidden": false
        },
        "nteract": {
          "transient": {
            "deleting": false
          }
        },
        "gather": {
          "logged": 1631640425926
        }
      }
    },
    {
      "cell_type": "code",
      "source": [
        "run.complete()\n",
        "print(run.get_status())"
      ],
      "outputs": [],
      "execution_count": null,
      "metadata": {
        "jupyter": {
          "source_hidden": false,
          "outputs_hidden": false
        },
        "nteract": {
          "transient": {
            "deleting": false
          }
        },
        "gather": {
          "logged": 1631640442441
        }
      }
    },
    {
      "cell_type": "markdown",
      "source": [
        "## MLflow integration"
      ],
      "metadata": {
        "nteract": {
          "transient": {
            "deleting": false
          }
        }
      }
    },
    {
      "cell_type": "code",
      "source": [
        "# You will need azureml-mlflow pip package\n",
        "# which already exists in your compute instance\n",
        "!pip show azureml-mlflow"
      ],
      "outputs": [],
      "execution_count": null,
      "metadata": {
        "jupyter": {
          "source_hidden": false,
          "outputs_hidden": false
        },
        "nteract": {
          "transient": {
            "deleting": false
          }
        },
        "gather": {
          "logged": 1631641937042
        }
      }
    },
    {
      "cell_type": "code",
      "source": [
        "import mlflow\n",
        "\n",
        "mlflow.set_tracking_uri(ws.get_mlflow_tracking_uri())\n",
        "mlflow.set_experiment(\"mlflow-experiment\")"
      ],
      "outputs": [],
      "execution_count": null,
      "metadata": {
        "jupyter": {
          "source_hidden": false,
          "outputs_hidden": false
        },
        "nteract": {
          "transient": {
            "deleting": false
          }
        },
        "gather": {
          "logged": 1631640645995
        }
      }
    },
    {
      "cell_type": "code",
      "source": [
        "from sklearn.pipeline import make_pipeline\n",
        "from sklearn.preprocessing import StandardScaler\n",
        "from sklearn.linear_model import LassoLars\n",
        "from sklearn import datasets\n",
        "\n",
        "with mlflow.start_run():\n",
        "    mlflow.sklearn.autolog()\n",
        "    # Normal sklearn training code\n",
        "    alpha_param = 0.9\n",
        "    diabetes = datasets.load_diabetes()\n",
        "    X = diabetes.data\n",
        "    y = diabetes.target\n",
        "    pipe = make_pipeline(StandardScaler(), LassoLars(alpha=alpha_param))\n",
        "    pipe.fit(X, y)\n",
        "    # Track using the MLflow API\n",
        "    mlflow.log_metric(\"custom_metric\", 0.9)\n",
        "    # MLflow already tracks lassolars__alpha\n",
        "    mlflow.log_param(\"alpha\", alpha_param)"
      ],
      "outputs": [],
      "execution_count": null,
      "metadata": {
        "jupyter": {
          "source_hidden": false,
          "outputs_hidden": false
        },
        "nteract": {
          "transient": {
            "deleting": false
          }
        },
        "gather": {
          "logged": 1631641365906
        }
      }
    }
  ],
  "metadata": {
    "kernelspec": {
      "name": "python3-azureml",
      "language": "python",
      "display_name": "Python 3.8 - AzureML"
    },
    "language_info": {
      "name": "python",
      "version": "3.8.5",
      "mimetype": "text/x-python",
      "codemirror_mode": {
        "name": "ipython",
        "version": 3
      },
      "pygments_lexer": "ipython3",
      "nbconvert_exporter": "python",
      "file_extension": ".py"
    },
    "kernel_info": {
      "name": "python3-azureml"
    },
    "nteract": {
      "version": "nteract-front-end@1.0.0"
    },
    "microsoft": {
      "host": {
        "AzureML": {
          "notebookHasBeenCompleted": true
        }
      }
    }
  },
  "nbformat": 4,
  "nbformat_minor": 2
}