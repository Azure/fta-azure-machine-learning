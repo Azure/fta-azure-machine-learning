{
  "cells": [
    {
      "cell_type": "markdown",
      "source": [
        "# Basic AzureML SDK functionality"
      ],
      "metadata": {
        "nteract": {
          "transient": {
            "deleting": false
          }
        }
      }
    },
    {
      "cell_type": "code",
      "source": [
        "from azureml.core import Workspace\r\n",
        "\r\n",
        "ws = Workspace.from_config()\r\n",
        "\r\n",
        "# Or you can use sample seen in datasets\r\n",
        "# ws = Workspace(subscription_id, resource_group, workspace_name)\r\n",
        "\r\n",
        "print(ws.name)"
      ],
      "outputs": [],
      "execution_count": null,
      "metadata": {
        "gather": {
          "logged": 1631636815087
        }
      }
    },
    {
      "cell_type": "markdown",
      "source": [
        "## Computes"
      ],
      "metadata": {
        "nteract": {
          "transient": {
            "deleting": false
          }
        }
      }
    },
    {
      "cell_type": "code",
      "source": [
        "for compute_name in ws.compute_targets:\r\n",
        "    compute = ws.compute_targets[compute_name]\r\n",
        "    print(f\"Compute {compute.name} is a {type(compute)}\")"
      ],
      "outputs": [],
      "execution_count": null,
      "metadata": {
        "jupyter": {
          "source_hidden": false,
          "outputs_hidden": false
        },
        "nteract": {
          "transient": {
            "deleting": false
          }
        },
        "gather": {
          "logged": 1631636818795
        }
      }
    },
    {
      "cell_type": "code",
      "source": [
        "# Provision a small compute cluster\r\n",
        "from azureml.core.compute import ComputeTarget, AmlCompute\r\n",
        "\r\n",
        "compute_name = 'cpu-sm-cluster'\r\n",
        "cluster = None\r\n",
        "\r\n",
        "if compute_name in ws.compute_targets:\r\n",
        "    print('Getting reference to compute cluster')\r\n",
        "    cluster = ws.compute_targets[compute_name]\r\n",
        "else:\r\n",
        "    print('Creating compute cluster')\r\n",
        "    config = AmlCompute.provisioning_configuration(\r\n",
        "                           vm_size='Standard_D1', \r\n",
        "                           max_nodes=2)\r\n",
        "    cluster = ComputeTarget.create(ws, compute_name, config)\r\n",
        "    cluster.wait_for_completion(show_output=True)\r\n",
        "\r\n",
        "print(f\"Got reference to cluster {cluster.name}\")"
      ],
      "outputs": [],
      "execution_count": null,
      "metadata": {
        "jupyter": {
          "source_hidden": false,
          "outputs_hidden": false
        },
        "nteract": {
          "transient": {
            "deleting": false
          }
        },
        "gather": {
          "logged": 1631636841826
        }
      }
    },
    {
      "cell_type": "markdown",
      "source": [
        "## Datastores"
      ],
      "metadata": {
        "nteract": {
          "transient": {
            "deleting": false
          }
        }
      }
    },
    {
      "cell_type": "code",
      "source": [
        "from azureml.core import Datastore\r\n",
        "\r\n",
        "dstore_name='workspaceblobstore'\r\n",
        "\r\n",
        "dstore = Datastore.get(ws, dstore_name)\r\n",
        "# OR\r\n",
        "dstore = ws.datastores[dstore_name]\r\n",
        "# OR simpler\r\n",
        "dstore = ws.get_default_datastore()\r\n",
        "\r\n",
        "print(dstore)"
      ],
      "outputs": [],
      "execution_count": null,
      "metadata": {
        "jupyter": {
          "source_hidden": false,
          "outputs_hidden": false
        },
        "nteract": {
          "transient": {
            "deleting": false
          }
        },
        "gather": {
          "logged": 1631637094601
        }
      }
    },
    {
      "cell_type": "code",
      "source": [
        "dstore.upload_files(\r\n",
        "    files=['diabetes_raw_data.csv'],\r\n",
        "    target_path=\"samples/diabetes/v1\", \r\n",
        "    overwrite=True,\r\n",
        "    show_progress=True)"
      ],
      "outputs": [],
      "execution_count": null,
      "metadata": {
        "jupyter": {
          "source_hidden": false,
          "outputs_hidden": false
        },
        "nteract": {
          "transient": {
            "deleting": false
          }
        },
        "gather": {
          "logged": 1631637097409
        }
      }
    },
    {
      "cell_type": "markdown",
      "source": [
        "## Datasets"
      ],
      "metadata": {
        "nteract": {
          "transient": {
            "deleting": false
          }
        }
      }
    },
    {
      "cell_type": "code",
      "source": [
        "file_paths = [\r\n",
        "    (dstore, \"/samples/diabetes/v1\")\r\n",
        "]"
      ],
      "outputs": [],
      "execution_count": null,
      "metadata": {
        "jupyter": {
          "source_hidden": false,
          "outputs_hidden": false
        },
        "nteract": {
          "transient": {
            "deleting": false
          }
        },
        "gather": {
          "logged": 1631637368842
        }
      }
    },
    {
      "cell_type": "code",
      "source": [
        "# Define a FileDataset\r\n",
        "from azureml.core import Dataset\r\n",
        "file_ds = Dataset.File.from_files(\r\n",
        "    path = file_paths, validate = True\r\n",
        ")\r\n",
        "\r\n",
        "print(\"Files in FileDataset:\")\r\n",
        "print(file_ds.to_path())"
      ],
      "outputs": [],
      "execution_count": null,
      "metadata": {
        "jupyter": {
          "source_hidden": false,
          "outputs_hidden": false
        },
        "nteract": {
          "transient": {
            "deleting": false
          }
        },
        "gather": {
          "logged": 1631638169818
        }
      }
    },
    {
      "cell_type": "code",
      "source": [
        "# Define a TabularDataset\r\n",
        "tabular_ds = Dataset.Tabular.from_delimited_files(\r\n",
        "    path=file_paths,\r\n",
        "    validate=False)\r\n",
        "\r\n",
        "df = tabular_ds.to_pandas_dataframe()\r\n",
        "print(len(df))\r\n",
        "df.head()"
      ],
      "outputs": [],
      "execution_count": null,
      "metadata": {
        "jupyter": {
          "source_hidden": false,
          "outputs_hidden": false
        },
        "nteract": {
          "transient": {
            "deleting": false
          }
        },
        "gather": {
          "logged": 1631638349508
        }
      }
    },
    {
      "cell_type": "code",
      "source": [
        "file_ds.register(\r\n",
        "    workspace=ws,\r\n",
        "    name=\"diabetes-file\",\r\n",
        "    description=\"The sklearn diabetes dataset\")\r\n",
        "\r\n",
        "tabular_ds.register(\r\n",
        "    workspace=ws,\r\n",
        "    name=\"diabetes-tabular\",\r\n",
        "    description=\"The sklearn diabetes dataset\")"
      ],
      "outputs": [],
      "execution_count": null,
      "metadata": {
        "jupyter": {
          "source_hidden": false,
          "outputs_hidden": false
        },
        "nteract": {
          "transient": {
            "deleting": false
          }
        },
        "gather": {
          "logged": 1631638352857
        }
      }
    },
    {
      "cell_type": "markdown",
      "source": [
        "### Loading partial tabular datasets"
      ],
      "metadata": {
        "nteract": {
          "transient": {
            "deleting": false
          }
        }
      }
    },
    {
      "cell_type": "code",
      "source": [
        "partial_ds = tabular_ds \\\r\n",
        "        .skip(10) \\\r\n",
        "        .take(2) \\\r\n",
        "        .keep_columns(['0','target'])"
      ],
      "outputs": [],
      "execution_count": null,
      "metadata": {
        "jupyter": {
          "source_hidden": false,
          "outputs_hidden": false
        },
        "nteract": {
          "transient": {
            "deleting": false
          }
        },
        "gather": {
          "logged": 1631638492417
        }
      }
    },
    {
      "cell_type": "code",
      "source": [
        "# This is when the dataset loads in memory\r\n",
        "df = partial_ds.to_pandas_dataframe()\r\n",
        "df.head()"
      ],
      "outputs": [],
      "execution_count": null,
      "metadata": {
        "jupyter": {
          "source_hidden": false,
          "outputs_hidden": false
        },
        "nteract": {
          "transient": {
            "deleting": false
          }
        },
        "gather": {
          "logged": 1631638515052
        }
      }
    }
  ],
  "metadata": {
    "kernelspec": {
      "name": "python3-azureml",
      "language": "python",
      "display_name": "Python 3.6 - AzureML"
    },
    "language_info": {
      "name": "python",
      "version": "3.6.9",
      "mimetype": "text/x-python",
      "codemirror_mode": {
        "name": "ipython",
        "version": 3
      },
      "pygments_lexer": "ipython3",
      "nbconvert_exporter": "python",
      "file_extension": ".py"
    },
    "kernel_info": {
      "name": "python3-azureml"
    },
    "microsoft": {
      "host": {
        "AzureML": {
          "notebookHasBeenCompleted": true
        }
      }
    },
    "nteract": {
      "version": "nteract-front-end@1.0.0"
    }
  },
  "nbformat": 4,
  "nbformat_minor": 2
}