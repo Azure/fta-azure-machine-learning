{
 "cells": [
  {
   "cell_type": "markdown",
   "source": [
    "# Basic AzureML SDK functionality"
   ],
   "metadata": {
    "nteract": {
     "transient": {
      "deleting": false
     }
    }
   }
  },
  {
   "cell_type": "code",
   "source": [
    "from azureml.core import Workspace\n",
    "\n",
    "ws = Workspace.from_config()\n",
    "\n",
    "# Or you can use sample seen in datasets\n",
    "# ws = Workspace(subscription_id, resource_group, workspace_name)\n",
    "\n",
    "print(ws.name)"
   ],
   "outputs": [],
   "execution_count": null,
   "metadata": {
    "gather": {
     "logged": 1631636815087
    }
   }
  },
  {
   "cell_type": "markdown",
   "source": [
    "## Computes"
   ],
   "metadata": {
    "nteract": {
     "transient": {
      "deleting": false
     }
    }
   }
  },
  {
   "cell_type": "code",
   "source": [
    "for compute_name in ws.compute_targets:\n",
    "    compute = ws.compute_targets[compute_name]\n",
    "    print(f\"Compute {compute.name} is a {type(compute)}\")"
   ],
   "outputs": [],
   "execution_count": null,
   "metadata": {
    "jupyter": {
     "source_hidden": false,
     "outputs_hidden": false
    },
    "nteract": {
     "transient": {
      "deleting": false
     }
    },
    "gather": {
     "logged": 1631636818795
    }
   }
  },
  {
   "cell_type": "code",
   "source": [
    "# Provision a small compute cluster\n",
    "from azureml.core.compute import ComputeTarget, AmlCompute\n",
    "\n",
    "compute_name = \"cpu-sm-cluster\"\n",
    "cluster = None\n",
    "\n",
    "if compute_name in ws.compute_targets:\n",
    "    print(\"Getting reference to compute cluster\")\n",
    "    cluster = ws.compute_targets[compute_name]\n",
    "else:\n",
    "    print(\"Creating compute cluster\")\n",
    "    config = AmlCompute.provisioning_configuration(vm_size=\"Standard_D1\", max_nodes=2)\n",
    "    cluster = ComputeTarget.create(ws, compute_name, config)\n",
    "    cluster.wait_for_completion(show_output=True)\n",
    "print(f\"Got reference to cluster {cluster.name}\")"
   ],
   "outputs": [],
   "execution_count": null,
   "metadata": {
    "jupyter": {
     "source_hidden": false,
     "outputs_hidden": false
    },
    "nteract": {
     "transient": {
      "deleting": false
     }
    },
    "gather": {
     "logged": 1631636841826
    }
   }
  },
  {
   "cell_type": "markdown",
   "source": [
    "## Datastores"
   ],
   "metadata": {
    "nteract": {
     "transient": {
      "deleting": false
     }
    }
   }
  },
  {
   "cell_type": "code",
   "source": [
    "from azureml.core import Datastore\n",
    "\n",
    "dstore_name = \"workspaceblobstore\"\n",
    "\n",
    "dstore = Datastore.get(ws, dstore_name)\n",
    "# OR\n",
    "dstore = ws.datastores[dstore_name]\n",
    "# OR simpler\n",
    "dstore = ws.get_default_datastore()\n",
    "\n",
    "print(dstore)"
   ],
   "outputs": [],
   "execution_count": null,
   "metadata": {
    "jupyter": {
     "source_hidden": false,
     "outputs_hidden": false
    },
    "nteract": {
     "transient": {
      "deleting": false
     }
    },
    "gather": {
     "logged": 1631637094601
    }
   }
  },
  {
   "cell_type": "code",
   "source": [
    "dstore.upload_files(\n",
    "    files=[\"diabetes_raw_data.csv\"],\n",
    "    target_path=\"samples/diabetes/v1\",\n",
    "    overwrite=True,\n",
    "    show_progress=True,\n",
    ")"
   ],
   "outputs": [],
   "execution_count": null,
   "metadata": {
    "jupyter": {
     "source_hidden": false,
     "outputs_hidden": false
    },
    "nteract": {
     "transient": {
      "deleting": false
     }
    },
    "gather": {
     "logged": 1631637097409
    }
   }
  },
  {
   "cell_type": "markdown",
   "source": [
    "## Datasets"
   ],
   "metadata": {
    "nteract": {
     "transient": {
      "deleting": false
     }
    }
   }
  },
  {
   "cell_type": "code",
   "source": [
    "file_paths = [(dstore, \"/samples/diabetes/v1\")]"
   ],
   "outputs": [],
   "execution_count": null,
   "metadata": {
    "jupyter": {
     "source_hidden": false,
     "outputs_hidden": false
    },
    "nteract": {
     "transient": {
      "deleting": false
     }
    },
    "gather": {
     "logged": 1631637368842
    }
   }
  },
  {
   "cell_type": "code",
   "source": [
    "# Define a FileDataset\n",
    "from azureml.core import Dataset\n",
    "\n",
    "file_ds = Dataset.File.from_files(path=file_paths, validate=True)\n",
    "\n",
    "print(\"Files in FileDataset:\")\n",
    "print(file_ds.to_path())"
   ],
   "outputs": [],
   "execution_count": null,
   "metadata": {
    "jupyter": {
     "source_hidden": false,
     "outputs_hidden": false
    },
    "nteract": {
     "transient": {
      "deleting": false
     }
    },
    "gather": {
     "logged": 1631638169818
    }
   }
  },
  {
   "cell_type": "code",
   "source": [
    "# Define a TabularDataset\n",
    "tabular_ds = Dataset.Tabular.from_delimited_files(path=file_paths, validate=False)\n",
    "\n",
    "df = tabular_ds.to_pandas_dataframe()\n",
    "print(len(df))\n",
    "df.head()"
   ],
   "outputs": [],
   "execution_count": null,
   "metadata": {
    "jupyter": {
     "source_hidden": false,
     "outputs_hidden": false
    },
    "nteract": {
     "transient": {
      "deleting": false
     }
    },
    "gather": {
     "logged": 1631638349508
    }
   }
  },
  {
   "cell_type": "code",
   "source": [
    "file_ds.register(\n",
    "    workspace=ws, name=\"diabetes-file\", description=\"The sklearn diabetes dataset\"\n",
    ")\n",
    "\n",
    "tabular_ds.register(\n",
    "    workspace=ws, name=\"diabetes-tabular\", description=\"The sklearn diabetes dataset\"\n",
    ")"
   ],
   "outputs": [],
   "execution_count": null,
   "metadata": {
    "jupyter": {
     "source_hidden": false,
     "outputs_hidden": false
    },
    "nteract": {
     "transient": {
      "deleting": false
     }
    },
    "gather": {
     "logged": 1631638352857
    }
   }
  },
  {
   "cell_type": "markdown",
   "source": [
    "### Loading partial tabular datasets"
   ],
   "metadata": {
    "nteract": {
     "transient": {
      "deleting": false
     }
    }
   }
  },
  {
   "cell_type": "code",
   "source": [
    "partial_ds = tabular_ds.skip(10).take(2).keep_columns([\"0\", \"target\"])"
   ],
   "outputs": [],
   "execution_count": null,
   "metadata": {
    "jupyter": {
     "source_hidden": false,
     "outputs_hidden": false
    },
    "nteract": {
     "transient": {
      "deleting": false
     }
    },
    "gather": {
     "logged": 1631638492417
    }
   }
  },
  {
   "cell_type": "code",
   "source": [
    "# This is when the dataset loads in memory\n",
    "df = partial_ds.to_pandas_dataframe()\n",
    "df.head()"
   ],
   "outputs": [],
   "execution_count": null,
   "metadata": {
    "jupyter": {
     "source_hidden": false,
     "outputs_hidden": false
    },
    "nteract": {
     "transient": {
      "deleting": false
     }
    },
    "gather": {
     "logged": 1631638515052
    }
   }
  }
 ],
 "metadata": {
  "kernelspec": {
   "name": "python3-azureml",
   "language": "python",
   "display_name": "Python 3.8 - AzureML"
  },
  "language_info": {
   "name": "python",
   "version": "3.8.5",
   "mimetype": "text/x-python",
   "codemirror_mode": {
    "name": "ipython",
    "version": 3
   },
   "pygments_lexer": "ipython3",
   "nbconvert_exporter": "python",
   "file_extension": ".py"
  },
  "kernel_info": {
   "name": "python3-azureml"
  },
  "microsoft": {
   "host": {
    "AzureML": {
     "notebookHasBeenCompleted": true
    }
   }
  },
  "nteract": {
   "version": "nteract-front-end@1.0.0"
  }
 },
 "nbformat": 4,
 "nbformat_minor": 2
}