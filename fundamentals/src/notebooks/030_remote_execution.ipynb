{
  "cells": [
    {
      "cell_type": "markdown",
      "source": [
        "# Remote execution on compute cluster"
      ],
      "metadata": {
        "nteract": {
          "transient": {
            "deleting": false
          }
        }
      }
    },
    {
      "cell_type": "code",
      "source": [
        "from azureml.core import Workspace, Experiment\r\n",
        "from azureml.core import ScriptRunConfig\r\n",
        "\r\n",
        "ws = Workspace.from_config()\r\n",
        "target = ws.compute_targets['cpu-cluster']\r\n",
        "\r\n",
        "script = ScriptRunConfig(\r\n",
        "    source_directory='030_scripts',\r\n",
        "    script='sklearn_vanilla_train.py',\r\n",
        "    compute_target=target,\r\n",
        "    environment = ws.environments['AzureML-sklearn-0.24-ubuntu18.04-py37-cpu'],\r\n",
        "    arguments=['--alpha', 0.01]\r\n",
        ")\r\n",
        "\r\n",
        "exp = Experiment(ws, 'remote-script-execution')\r\n",
        "run = exp.submit(script)\r\n",
        "run.wait_for_completion(show_output=True)"
      ],
      "outputs": [],
      "execution_count": null,
      "metadata": {
        "jupyter": {
          "source_hidden": false,
          "outputs_hidden": false
        },
        "nteract": {
          "transient": {
            "deleting": false
          }
        },
        "gather": {
          "logged": 1631648986877
        }
      }
    },
    {
      "cell_type": "markdown",
      "source": [
        "## Custom environment"
      ],
      "metadata": {
        "nteract": {
          "transient": {
            "deleting": false
          }
        }
      }
    },
    {
      "cell_type": "code",
      "source": [
        "from azureml.core import Environment\r\n",
        "from azureml.core.conda_dependencies import CondaDependencies \r\n",
        "import sklearn\r\n",
        "\r\n",
        "diabetes_env = Environment(name=\"diabetes-training-env\")\r\n",
        "diabetes_env.python.conda_dependencies = CondaDependencies.create(\r\n",
        "                                            conda_packages=[\r\n",
        "                                                f\"scikit-learn=={sklearn.__version__}\",\r\n",
        "                                                \"mlflow\",\r\n",
        "                                            ],\r\n",
        "                                            pip_packages=[\r\n",
        "                                                \"azureml-defaults\",\r\n",
        "                                                \"azureml-mlflow\",\r\n",
        "                                                \"azureml-dataprep[pandas]\"\r\n",
        "                                            ])\r\n",
        "# Or if you had a yml conda file\r\n",
        "# diabetes_env = Environment.from_conda_specification(\r\n",
        "#                            name = \"diabetes-training-env\",\r\n",
        "#                            file_path = \"diabetes-conda.yml\")\r\n",
        "# Or even from Docker file\r\n",
        "# https://docs.microsoft.com/en-us/python/api/azureml-core/azureml.core.environment.environment?view=azure-ml-py#from-dockerfile-name--dockerfile--conda-specification-none--pip-requirements-none-"
      ],
      "outputs": [],
      "execution_count": null,
      "metadata": {
        "jupyter": {
          "source_hidden": false,
          "outputs_hidden": false
        },
        "nteract": {
          "transient": {
            "deleting": false
          }
        },
        "gather": {
          "logged": 1631648987247
        }
      }
    },
    {
      "cell_type": "code",
      "source": [
        "diabetes_env.environment_variables[\"MY_VAR\"] = \"Hello from environment\""
      ],
      "outputs": [],
      "execution_count": null,
      "metadata": {
        "jupyter": {
          "source_hidden": false,
          "outputs_hidden": false
        },
        "nteract": {
          "transient": {
            "deleting": false
          }
        },
        "gather": {
          "logged": 1631648987327
        }
      }
    },
    {
      "cell_type": "code",
      "source": [
        "script = ScriptRunConfig(\r\n",
        "    source_directory='030_scripts',\r\n",
        "    script='sklearn_vanilla_train.py',\r\n",
        "    compute_target=target,\r\n",
        "    environment = diabetes_env,\r\n",
        "    arguments=['--alpha', 0.01]\r\n",
        ")\r\n",
        "\r\n",
        "exp = Experiment(ws, 'remote-script-execution')\r\n",
        "run = exp.submit(script)\r\n",
        "# First time you will see 20_image_build_log.txt.\r\n",
        "# The image will be stored in the container registry and will\r\n",
        "# be reused in follow up calls.\r\n",
        "run.wait_for_completion(show_output=True)"
      ],
      "outputs": [],
      "execution_count": null,
      "metadata": {
        "jupyter": {
          "source_hidden": false,
          "outputs_hidden": false
        },
        "nteract": {
          "transient": {
            "deleting": false
          }
        },
        "gather": {
          "logged": 1631649842160
        }
      }
    },
    {
      "cell_type": "code",
      "source": [
        "# Optionally, register the environment\r\n",
        "diabetes_env.register(ws)"
      ],
      "outputs": [],
      "execution_count": null,
      "metadata": {
        "jupyter": {
          "source_hidden": false,
          "outputs_hidden": false
        },
        "nteract": {
          "transient": {
            "deleting": false
          }
        },
        "gather": {
          "logged": 1631650444191
        }
      }
    }
  ],
  "metadata": {
    "kernelspec": {
      "name": "python3-azureml",
      "language": "python",
      "display_name": "Python 3.6 - AzureML"
    },
    "language_info": {
      "name": "python",
      "version": "3.6.9",
      "mimetype": "text/x-python",
      "codemirror_mode": {
        "name": "ipython",
        "version": 3
      },
      "pygments_lexer": "ipython3",
      "nbconvert_exporter": "python",
      "file_extension": ".py"
    },
    "kernel_info": {
      "name": "python3-azureml"
    },
    "nteract": {
      "version": "nteract-front-end@1.0.0"
    },
    "microsoft": {
      "host": {
        "AzureML": {
          "notebookHasBeenCompleted": true
        }
      }
    }
  },
  "nbformat": 4,
  "nbformat_minor": 2
}